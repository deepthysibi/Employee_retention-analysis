{
 "cells": [
  {
   "cell_type": "code",
   "execution_count": null,
   "id": "38050f5b",
   "metadata": {},
   "outputs": [],
   "source": [
    "import pandas as pd\n",
    "import numpy as np\n",
    "from sklearn import linear_model\n",
    "from matplotlib import pyplot as plt\n",
    "import seaborn as sns"
   ]
  },
  {
   "cell_type": "code",
   "execution_count": null,
   "id": "c013a1b0",
   "metadata": {
    "scrolled": false
   },
   "outputs": [],
   "source": [
    "data=pd.read_csv(\"HR_comma_sep.csv\")\n",
    "data"
   ]
  },
  {
   "cell_type": "code",
   "execution_count": null,
   "id": "039351db",
   "metadata": {
    "scrolled": true
   },
   "outputs": [],
   "source": [
    "data.isnull().sum()"
   ]
  },
  {
   "cell_type": "code",
   "execution_count": null,
   "id": "e809761b",
   "metadata": {
    "scrolled": true
   },
   "outputs": [],
   "source": [
    "data[\"left\"].value_counts()"
   ]
  },
  {
   "cell_type": "code",
   "execution_count": null,
   "id": "e4925fe0",
   "metadata": {
    "scrolled": false
   },
   "outputs": [],
   "source": [
    "sns.countplot(x ='left', data = data)"
   ]
  },
  {
   "cell_type": "code",
   "execution_count": null,
   "id": "7fb85c16",
   "metadata": {
    "scrolled": true
   },
   "outputs": [],
   "source": [
    "plt.figure(figsize=(10,10))\n",
    "sns.countplot(x='Department',hue='left',data=data)"
   ]
  },
  {
   "cell_type": "code",
   "execution_count": null,
   "id": "67e27c79",
   "metadata": {},
   "outputs": [],
   "source": [
    "#sale deparment face high rate of employee left"
   ]
  },
  {
   "cell_type": "code",
   "execution_count": null,
   "id": "7b0c7735",
   "metadata": {
    "scrolled": false
   },
   "outputs": [],
   "source": [
    "plt.figure(figsize=(10,10))\n",
    "sns.barplot(y ='left', x ='Department', data = data, palette ='plasma')\n",
    " "
   ]
  },
  {
   "cell_type": "code",
   "execution_count": null,
   "id": "3ffa01fd",
   "metadata": {},
   "outputs": [],
   "source": [
    "da=data[data['left']==1]\n",
    "da.shape"
   ]
  },
  {
   "cell_type": "code",
   "execution_count": null,
   "id": "0debf0a0",
   "metadata": {},
   "outputs": [],
   "source": [
    "data.describe()"
   ]
  },
  {
   "cell_type": "code",
   "execution_count": null,
   "id": "373d1ebc",
   "metadata": {},
   "outputs": [],
   "source": [
    "# Approximately 24% of the employees have left the firm, which is a significant loss of talent to the firm.\n",
    "# On an average the employees got a score of 0.71 which is quite good and when combined with a very low standard deviation, the numbers look quite good"
   ]
  },
  {
   "cell_type": "code",
   "execution_count": null,
   "id": "f981c57f",
   "metadata": {
    "scrolled": true
   },
   "outputs": [],
   "source": [
    "da.describe()"
   ]
  },
  {
   "cell_type": "code",
   "execution_count": null,
   "id": "f876471d",
   "metadata": {},
   "outputs": [],
   "source": [
    "db=data[data['left']==0]\n",
    "db.describe()"
   ]
  },
  {
   "cell_type": "code",
   "execution_count": null,
   "id": "cb2f2dc5",
   "metadata": {},
   "outputs": [],
   "source": [
    "#when comparing satisfaction level people who left the company have less satisfaction level than people who remains there\n",
    "#evalution point is also greater for people who stay there"
   ]
  },
  {
   "cell_type": "code",
   "execution_count": null,
   "id": "27d56452",
   "metadata": {
    "scrolled": true
   },
   "outputs": [],
   "source": [
    "data.hist(figsize=(8,8))"
   ]
  },
  {
   "cell_type": "code",
   "execution_count": null,
   "id": "ced5bc2c",
   "metadata": {
    "scrolled": true
   },
   "outputs": [],
   "source": [
    "def Histogram(data,to_plot):\n",
    "    for i in range(len(to_plot)):\n",
    "        plt.hist(data[to_plot[i]])\n",
    "        plt.axvline(data[to_plot[i]].mean(),color='r')\n",
    "        plt.xlabel(to_plot[i])\n",
    "        plt.show()\n",
    "to_plt =['satisfaction_level','last_evaluation','average_montly_hours']\n",
    "Histogram(data,to_plt)        "
   ]
  },
  {
   "cell_type": "code",
   "execution_count": null,
   "id": "76c2a27a",
   "metadata": {},
   "outputs": [],
   "source": []
  },
  {
   "cell_type": "code",
   "execution_count": null,
   "id": "39927cb8",
   "metadata": {},
   "outputs": [],
   "source": [
    "cor=data.corr()\n",
    "cor"
   ]
  },
  {
   "cell_type": "code",
   "execution_count": null,
   "id": "126ccd3f",
   "metadata": {
    "scrolled": true
   },
   "outputs": [],
   "source": [
    "import seaborn as sns\n",
    "sns.set(font_scale=1.0)\n",
    "plt.figure(figsize=(8,8))\n",
    "sns.heatmap(cor,annot=True)"
   ]
  },
  {
   "cell_type": "code",
   "execution_count": null,
   "id": "89765102",
   "metadata": {},
   "outputs": [],
   "source": [
    "#The number of projects and the average monthly hours worked by an employee are positively co-related\n",
    "#The level of satisfaction and 'left' variables are negatively co-related which further lends evidence to our previous hypothesis."
   ]
  },
  {
   "cell_type": "code",
   "execution_count": null,
   "id": "1f6a1016",
   "metadata": {
    "scrolled": true
   },
   "outputs": [],
   "source": [
    "sns.set(color_codes=True)\n",
    "plot = sns.FacetGrid(data,col='left',hue='left',size=5)\n",
    "plot.map(sns.kdeplot,'satisfaction_level','last_evaluation',shade=True,cmap='Blues')\n",
    "plt.show()"
   ]
  },
  {
   "cell_type": "code",
   "execution_count": null,
   "id": "92a1727d",
   "metadata": {},
   "outputs": [],
   "source": [
    "#employee who left are categorize into three category\n",
    "# Less satisfied and Under-performers\n",
    "# Less satisfied and Above-average performers\n",
    "# Highly satisfied and Above-average performers"
   ]
  },
  {
   "cell_type": "code",
   "execution_count": null,
   "id": "1af35976",
   "metadata": {},
   "outputs": [],
   "source": [
    "dl = data[data['salary']=='low']\n",
    "sns.countplot(x='Department',hue='left',data=dl)"
   ]
  },
  {
   "cell_type": "code",
   "execution_count": null,
   "id": "931c64ab",
   "metadata": {},
   "outputs": [],
   "source": [
    "x=adata.drop('left',axis=1)\n",
    "x"
   ]
  },
  {
   "cell_type": "code",
   "execution_count": null,
   "id": "d8522abd",
   "metadata": {
    "scrolled": true
   },
   "outputs": [],
   "source": [
    "y=adata[\"left\"]\n",
    "y"
   ]
  },
  {
   "cell_type": "code",
   "execution_count": null,
   "id": "32748f87",
   "metadata": {},
   "outputs": [],
   "source": [
    "#from sklearn import preprocessing\n",
    "#transformim=ng catagorical data into numerical data\n",
    "from sklearn.preprocessing import LabelEncoder \n",
    "le=LabelEncoder()"
   ]
  },
  {
   "cell_type": "code",
   "execution_count": null,
   "id": "37b6590b",
   "metadata": {},
   "outputs": [],
   "source": [
    "l_Department=le.fit_transform(x[\"Department\"])\n",
    "l_Department"
   ]
  },
  {
   "cell_type": "code",
   "execution_count": null,
   "id": "a731496a",
   "metadata": {},
   "outputs": [],
   "source": [
    "l_salary=le.fit_transform(x[\"salary\"])\n",
    "l_salary"
   ]
  },
  {
   "cell_type": "code",
   "execution_count": null,
   "id": "797c07c7",
   "metadata": {},
   "outputs": [],
   "source": [
    "x[\"Department\"]=l_Department\n",
    "x[\"salary\"]=l_salary"
   ]
  },
  {
   "cell_type": "code",
   "execution_count": null,
   "id": "60f45661",
   "metadata": {},
   "outputs": [],
   "source": [
    "x"
   ]
  },
  {
   "cell_type": "code",
   "execution_count": null,
   "id": "4ed337d8",
   "metadata": {},
   "outputs": [],
   "source": [
    "z=pd.concat([x,y],axis=1)\n",
    "z"
   ]
  },
  {
   "cell_type": "code",
   "execution_count": null,
   "id": "1bedfe1b",
   "metadata": {},
   "outputs": [],
   "source": []
  },
  {
   "cell_type": "code",
   "execution_count": null,
   "id": "369dcc02",
   "metadata": {},
   "outputs": [],
   "source": []
  },
  {
   "cell_type": "code",
   "execution_count": null,
   "id": "d3364490",
   "metadata": {},
   "outputs": [],
   "source": [
    "#trail1\n",
    "#spliting and training data"
   ]
  },
  {
   "cell_type": "code",
   "execution_count": null,
   "id": "d9d8f688",
   "metadata": {},
   "outputs": [],
   "source": [
    "from sklearn.model_selection import train_test_split\n",
    "x_train,x_test,y_train,y_test=train_test_split(x,y,test_size=0.2,random_state=98)"
   ]
  },
  {
   "cell_type": "code",
   "execution_count": null,
   "id": "1ec109b6",
   "metadata": {},
   "outputs": [],
   "source": [
    "model1=linear_model.LogisticRegression()\n",
    "model1.fit(x_train,y_train)"
   ]
  },
  {
   "cell_type": "code",
   "execution_count": null,
   "id": "aa4faf50",
   "metadata": {},
   "outputs": [],
   "source": [
    "model1.score(x_test,y_test)"
   ]
  },
  {
   "cell_type": "code",
   "execution_count": null,
   "id": "b559c35f",
   "metadata": {},
   "outputs": [],
   "source": [
    "y_pred=model1.predict(x_test)"
   ]
  },
  {
   "cell_type": "code",
   "execution_count": null,
   "id": "11277eb6",
   "metadata": {},
   "outputs": [],
   "source": [
    "from sklearn.metrics import confusion_matrix\n",
    "cm = confusion_matrix(y_pred,y_test)\n",
    "cm"
   ]
  },
  {
   "cell_type": "code",
   "execution_count": null,
   "id": "f4afb2c4",
   "metadata": {},
   "outputs": [],
   "source": [
    "import seaborn as sns\n",
    "sns.heatmap(cm,annot=True)\n",
    "plt.xlabel('predictions')\n",
    "plt.ylabel('Targets')\n",
    "plt.figure(figsize=(50,50))"
   ]
  },
  {
   "cell_type": "code",
   "execution_count": null,
   "id": "03672c4e",
   "metadata": {},
   "outputs": [],
   "source": [
    "#trail2"
   ]
  },
  {
   "cell_type": "code",
   "execution_count": null,
   "id": "3f19163c",
   "metadata": {},
   "outputs": [],
   "source": [
    "x2=x.drop([\"Department\",\"salary\"],axis=1)\n",
    "x2"
   ]
  },
  {
   "cell_type": "code",
   "execution_count": null,
   "id": "5b6d3d6a",
   "metadata": {},
   "outputs": [],
   "source": [
    "from sklearn.model_selection import train_test_split\n",
    "x_train,x_test,y_train,y_test=train_test_split(x2,y,test_size=0.25,random_state=89)"
   ]
  },
  {
   "cell_type": "code",
   "execution_count": null,
   "id": "f2a87b5a",
   "metadata": {},
   "outputs": [],
   "source": [
    "model2=linear_model.LogisticRegression()\n",
    "model2.fit(x_train,y_train)"
   ]
  },
  {
   "cell_type": "code",
   "execution_count": null,
   "id": "cbcdaf17",
   "metadata": {},
   "outputs": [],
   "source": [
    "model2.score(x_test,y_test)"
   ]
  },
  {
   "cell_type": "code",
   "execution_count": null,
   "id": "1b7832a1",
   "metadata": {},
   "outputs": [],
   "source": [
    "#trail3"
   ]
  },
  {
   "cell_type": "code",
   "execution_count": null,
   "id": "87da23bf",
   "metadata": {},
   "outputs": [],
   "source": [
    "x3=x.drop([\"last_evaluation\",\"number_project\"],axis=1)\n",
    "x3"
   ]
  },
  {
   "cell_type": "code",
   "execution_count": null,
   "id": "00e09ae4",
   "metadata": {},
   "outputs": [],
   "source": [
    "x_train,x_test,y_train,y_test=train_test_split(x3,y,test_size=0.2,random_state=89)"
   ]
  },
  {
   "cell_type": "code",
   "execution_count": null,
   "id": "cc842254",
   "metadata": {},
   "outputs": [],
   "source": [
    "model3=linear_model.LogisticRegression()\n",
    "model3.fit(x_train,y_train)"
   ]
  },
  {
   "cell_type": "code",
   "execution_count": null,
   "id": "0856abe0",
   "metadata": {},
   "outputs": [],
   "source": [
    "model3.score(x_test,y_test)"
   ]
  },
  {
   "cell_type": "code",
   "execution_count": null,
   "id": "fdd71847",
   "metadata": {},
   "outputs": [],
   "source": [
    "#trail4"
   ]
  },
  {
   "cell_type": "code",
   "execution_count": null,
   "id": "ba5ddd18",
   "metadata": {},
   "outputs": [],
   "source": [
    "x4=x.drop([\"last_evaluation\",\"salary\",\"Department\"],axis=1)"
   ]
  },
  {
   "cell_type": "code",
   "execution_count": null,
   "id": "c09c4049",
   "metadata": {},
   "outputs": [],
   "source": [
    "x_train,x_test,y_train,y_test=train_test_split(x4,y,test_size=0.2,random_state=89)"
   ]
  },
  {
   "cell_type": "code",
   "execution_count": null,
   "id": "1f49173b",
   "metadata": {},
   "outputs": [],
   "source": [
    "model4=linear_model.LogisticRegression()\n",
    "model4.fit(x_train,y_train)"
   ]
  },
  {
   "cell_type": "code",
   "execution_count": null,
   "id": "87514053",
   "metadata": {},
   "outputs": [],
   "source": [
    "model4.score(x_test,y_test)"
   ]
  },
  {
   "cell_type": "code",
   "execution_count": null,
   "id": "7b0090cd",
   "metadata": {},
   "outputs": [],
   "source": []
  }
 ],
 "metadata": {
  "kernelspec": {
   "display_name": "Python 3 (ipykernel)",
   "language": "python",
   "name": "python3"
  },
  "language_info": {
   "codemirror_mode": {
    "name": "ipython",
    "version": 3
   },
   "file_extension": ".py",
   "mimetype": "text/x-python",
   "name": "python",
   "nbconvert_exporter": "python",
   "pygments_lexer": "ipython3",
   "version": "3.9.7"
  }
 },
 "nbformat": 4,
 "nbformat_minor": 5
}
